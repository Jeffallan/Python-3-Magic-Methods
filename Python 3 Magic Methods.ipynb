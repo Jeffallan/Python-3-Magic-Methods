{
 "cells": [
  {
   "cell_type": "markdown",
   "metadata": {
    "slideshow": {
     "slide_type": "slide"
    }
   },
   "source": [
    "# Python 3 Magic Magic Methods\n",
    "\n"
   ]
  },
  {
   "cell_type": "markdown",
   "metadata": {
    "slideshow": {
     "slide_type": "slide"
    }
   },
   "source": [
    "# Overview\n",
    "\n",
    "\n",
    "- What Are Magic Methods?\n",
    "\n",
    "- What Do They Do?\n",
    "\n",
    "- Use Cases\n",
    "\n",
    "- Examples"
   ]
  },
  {
   "cell_type": "markdown",
   "metadata": {
    "slideshow": {
     "slide_type": "slide"
    }
   },
   "source": [
    "# What Are Magic Methods?\n",
    "\n",
    "- Magic Methods are, essentially, what makes Python Python\n",
    "\n",
    "- These methods are sometimes referred to as Dunder methods because their name is surrounded by double underscores.\n",
    "\n"
   ]
  },
  {
   "cell_type": "markdown",
   "metadata": {
    "slideshow": {
     "slide_type": "slide"
    }
   },
   "source": [
    "# What Do Magic Methods Do?\n",
    "\n",
    "## Work behind the scenes to implement Python's behavior: \n",
    "    \n",
    "   - object instantiation and distruction;\n",
    "    \n",
    "   - built-in methods;\n",
    "    \n",
    "   - symbols;\n",
    "    \n",
    "   - operations; "
   ]
  },
  {
   "cell_type": "markdown",
   "metadata": {
    "slideshow": {
     "slide_type": "slide"
    }
   },
   "source": [
    "# Have You Seen These Methods Before?\n",
    "    \n",
    "    \n",
    "   - `__init__()`\n",
    "   \n",
    "   - `__str__()`\n",
    "   \n",
    "   - `__repr__()`\n",
    "   \n",
    "   - `__dict__()`\n",
    "   \n",
    "   Lets take a look:\n",
    "    "
   ]
  },
  {
   "cell_type": "code",
   "execution_count": 1,
   "metadata": {
    "slideshow": {
     "slide_type": "slide"
    }
   },
   "outputs": [
    {
     "name": "stdout",
     "output_type": "stream",
     "text": [
      "<__main__.SimplePersonClass object at 0x7f1fad697eb8>\n",
      "<__main__.SimplePersonClass object at 0x7f1fad697eb8>\n",
      "Stevie\n",
      "44\n",
      "{'name': 'Stevie', 'age': 44}\n",
      "{'name': 'Stevie', 'age': 44}\n"
     ]
    }
   ],
   "source": [
    "# __init__() method implemented\n",
    "\n",
    "from pprint import pprint\n",
    "\n",
    "class SimplePersonClass(object):\n",
    "    \n",
    "    def __init__(self, name, age,):\n",
    "        \n",
    "        self.name = name\n",
    "        self.age = age\n",
    "        \n",
    "person1 = SimplePersonClass('Stevie', 44)\n",
    "\n",
    "print(person1)      # When passing an object to the \n",
    "                    # builtin method print() it calls __str__()\n",
    "print(repr(person1))# When passing an object to the\n",
    "                    # builtin method repr() it calls __repr__()\n",
    "print(person1.name)\n",
    "print(person1.age)\n",
    "\n",
    "print(vars(person1)) # The built in method vars()\n",
    "print(person1.__dict__) # Implements the .__dict__ method\n",
    "# print(person1 + '\\n' + person1.name + '\\n' + person1.age + '\\n' + vars(person1))"
   ]
  },
  {
   "cell_type": "code",
   "execution_count": 2,
   "metadata": {
    "slideshow": {
     "slide_type": "slide"
    }
   },
   "outputs": [
    {
     "name": "stdout",
     "output_type": "stream",
     "text": [
      "I am: Stevie\n",
      "Instance of the SimplePersonClasswhose name is Stevie and whose age is: 44\n"
     ]
    }
   ],
   "source": [
    "# Lets implement __str__() and _repr_()\n",
    "\n",
    "class SimplePersonClass(object):\n",
    "    \n",
    "    def __init__(self, name, age,):\n",
    "        \n",
    "        self.name = name\n",
    "        self.age = age\n",
    "        \n",
    "    def __str__(self):\n",
    "        \n",
    "        return (\"I am: \" + self.name)\n",
    "    \n",
    "    def __repr__(self):\n",
    "        \n",
    "            return (\"Instance of the SimplePersonClass\" + \n",
    "                    \"whose name is {} and whose age is: {}\"\n",
    "                    .format(self.name, self.age))\n",
    "        \n",
    "person1 = SimplePersonClass('Stevie', 44)\n",
    "print(person1)\n",
    "print(repr(person1))"
   ]
  },
  {
   "cell_type": "markdown",
   "metadata": {
    "slideshow": {
     "slide_type": "slide"
    }
   },
   "source": [
    "# A Closer Look At Python's Object Lifecycle\n",
    "\n",
    "   ![Image of Python_Object Lifecycle](./src/python_class_creation.png)\n",
    "   \n",
    "   Image from: https://blog.ionelmc.ro/2015/02/09/understanding-python-metaclasses/\n"
   ]
  },
  {
   "cell_type": "code",
   "execution_count": 32,
   "metadata": {},
   "outputs": [
    {
     "name": "stdout",
     "output_type": "stream",
     "text": [
      "Calling __new__() Creating new object passing to __init__()\n",
      "Stevie\n",
      "44\n",
      "I am: Stevie\n",
      "Deleting Object: Instance of the SimplePersonClasswhose name is Stevie and whose age is: 44\n"
     ]
    }
   ],
   "source": [
    "class SimplePersonClass(object):\n",
    "    \n",
    "    def __new__(cls, *args, **kwargs):\n",
    "        \n",
    "        print(\"Calling __new__() Creating new object passing to __init__()\")\n",
    "        for a in args:\n",
    "            print(a)\n",
    "        instance = super(SimplePersonClass, cls).__new__(cls)\n",
    "        return instance\n",
    "        \n",
    "    \n",
    "    def __init__(self, name, age,):\n",
    "        \n",
    "        self.name = name\n",
    "        self.age = age\n",
    "        \n",
    "    def __str__(self):\n",
    "        \n",
    "        return (\"I am: \" + self.name)\n",
    "    \n",
    "    def __repr__(self):\n",
    "        \n",
    "            return (\"Instance of the SimplePersonClass\" + \n",
    "                    \"whose name is {} and whose age is: {}\"\n",
    "                    .format(self.name, self.age))\n",
    "    \n",
    "    def __del__(self):\n",
    "        \n",
    "        print('Deleting Object: ' + self.__repr__())\n",
    "        del self\n",
    "\n",
    "person1 = SimplePersonClass('Stevie', 44) # calling the __new__() method\n",
    "                                          # and passing to __init__()\n",
    "\n",
    "print(person1)                            # Calling the __str__() method\n",
    "\n",
    "del(person1)"
   ]
  },
  {
   "cell_type": "markdown",
   "metadata": {
    "slideshow": {
     "slide_type": "slide"
    }
   },
   "source": [
    "# Sources\n",
    "\n",
    "Official Documentation: https://docs.python.org/3/reference/datamodel.html#special-method-names\n",
    "\n",
    "- https://rszalski.github.io/magicmethods/\n",
    "\n",
    "- https://www.python-course.eu/python3_magic_methods.php\n",
    "\n",
    "- https://dbader.org/blog/python-dunder-methods\n",
    "\n",
    "- https://micropyramid.com/blog/python-special-class-methods-or-magic-methods/\n",
    "\n",
    "- https://www.geeksforgeeks.org/dunder-magic-methods-python/\n",
    "\n",
    "- https://opensource.com/article/18/4/elegant-solutions-everyday-python-problems\n",
    "\n",
    "- http://farmdev.com/src/secrets/magicmethod/index.html"
   ]
  }
 ],
 "metadata": {
  "celltoolbar": "Slideshow",
  "kernelspec": {
   "display_name": "Python 3",
   "language": "python",
   "name": "python3"
  },
  "language_info": {
   "codemirror_mode": {
    "name": "ipython",
    "version": 3
   },
   "file_extension": ".py",
   "mimetype": "text/x-python",
   "name": "python",
   "nbconvert_exporter": "python",
   "pygments_lexer": "ipython3",
   "version": "3.6.7"
  }
 },
 "nbformat": 4,
 "nbformat_minor": 2
}
