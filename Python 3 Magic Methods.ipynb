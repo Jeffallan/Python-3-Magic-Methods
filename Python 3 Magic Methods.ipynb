{
 "cells": [
  {
   "cell_type": "markdown",
   "metadata": {
    "slideshow": {
     "slide_type": "slide"
    }
   },
   "source": [
    "# Python 3 Magic Magic Methods\n",
    "\n"
   ]
  },
  {
   "cell_type": "markdown",
   "metadata": {
    "slideshow": {
     "slide_type": "slide"
    }
   },
   "source": [
    "# Overview\n",
    "\n",
    "\n",
    "- ## What Are Magic Methods?\n",
    "- ## What Do They Do?\n",
    "- ## Use Cases\n",
    "- ## Examples"
   ]
  },
  {
   "cell_type": "markdown",
   "metadata": {
    "slideshow": {
     "slide_type": "slide"
    }
   },
   "source": [
    "# What Are Magic Methods?\n",
    "\n",
    "- ## Magic Methods are, essentially, what makes Python Python\n",
    "\n",
    "- ## These methods are sometimes referred to as Dunder methods because their name is surrounded by double underscores.\n",
    "\n"
   ]
  },
  {
   "cell_type": "markdown",
   "metadata": {
    "slideshow": {
     "slide_type": "slide"
    }
   },
   "source": [
    "# What Do Magic Methods Do?\n",
    "\n",
    "- ## Magic methods work behind the scenes to implement Python's behavior like: \n",
    "    - built-in methods;\n",
    "    - symbols;\n",
    "    - operations and; \n",
    "    - object instantiation and distruction"
   ]
  },
  {
   "cell_type": "markdown",
   "metadata": {
    "slideshow": {
     "slide_type": "subslide"
    }
   },
   "source": [
    "## Have You Seen These Methods Before?\n",
    "    \n",
    "    \n",
    "   - `__init__()`\n",
    "   - `__str__()`\n",
    "   - `__repr__()`\n",
    "    "
   ]
  },
  {
   "cell_type": "markdown",
   "metadata": {
    "slideshow": {
     "slide_type": "slide"
    }
   },
   "source": [
    "# Sources\n",
    "\n",
    "Official Documentation: https://docs.python.org/3/reference/datamodel.html#special-method-names\n",
    "\n",
    "- https://rszalski.github.io/magicmethods/\n",
    "\n",
    "- https://www.python-course.eu/python3_magic_methods.php\n",
    "\n",
    "- https://dbader.org/blog/python-dunder-methods\n",
    "\n",
    "- https://micropyramid.com/blog/python-special-class-methods-or-magic-methods/\n",
    "\n",
    "- https://www.geeksforgeeks.org/dunder-magic-methods-python/\n",
    "\n",
    "- https://opensource.com/article/18/4/elegant-solutions-everyday-python-problems\n",
    "\n",
    "- http://farmdev.com/src/secrets/magicmethod/index.html"
   ]
  }
 ],
 "metadata": {
  "celltoolbar": "Slideshow",
  "kernelspec": {
   "display_name": "Python 3",
   "language": "python",
   "name": "python3"
  },
  "language_info": {
   "codemirror_mode": {
    "name": "ipython",
    "version": 3
   },
   "file_extension": ".py",
   "mimetype": "text/x-python",
   "name": "python",
   "nbconvert_exporter": "python",
   "pygments_lexer": "ipython3",
   "version": "3.7.2+"
  }
 },
 "nbformat": 4,
 "nbformat_minor": 2
}
