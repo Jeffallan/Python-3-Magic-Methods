{
 "cells": [
  {
   "cell_type": "markdown",
   "metadata": {
    "slideshow": {
     "slide_type": "slide"
    }
   },
   "source": [
    "# Python 3 Magic Magic Methods\n",
    "\n"
   ]
  },
  {
   "cell_type": "markdown",
   "metadata": {
    "slideshow": {
     "slide_type": "slide"
    }
   },
   "source": [
    "# About Me\n",
    "\n",
    "## https://jeffallan.github.io/"
   ]
  },
  {
   "cell_type": "markdown",
   "metadata": {
    "slideshow": {
     "slide_type": "slide"
    }
   },
   "source": [
    "# Overview\n",
    "\n",
    "\n",
    "- What Are Magic Methods?\n",
    "\n",
    "- What Do They Do?\n",
    "\n",
    "- Use Cases.\n",
    "\n",
    "- Examples."
   ]
  },
  {
   "cell_type": "markdown",
   "metadata": {
    "slideshow": {
     "slide_type": "slide"
    }
   },
   "source": [
    "# What Are Magic Methods?\n",
    "\n",
    "- Magic Methods are, essentially, what makes Python Python\n",
    "\n",
    "- These methods are sometimes referred to as Dunder Methods because their name is surrounded by double underscores.\n",
    "\n"
   ]
  },
  {
   "cell_type": "markdown",
   "metadata": {
    "slideshow": {
     "slide_type": "slide"
    }
   },
   "source": [
    "# What Do Magic Methods Do?\n",
    "\n",
    "## Work behind the scenes to implement Python's behavior: \n",
    "    \n",
    "   - Object Instantiation, Distruction, and Description;\n",
    "    \n",
    "   - Numeric Operators;\n",
    "    \n",
    "   - Comparison;\n",
    "   \n",
    "   - Containers and;\n",
    "   \n",
    "   - Many More Outside The Scope;\n",
    "       - Abstract Base Classes\n",
    "       - Attribute Access\n",
    "       - Context Managers\n",
    "       - Callable Objects\n",
    "       - Type Convesion"
   ]
  },
  {
   "cell_type": "code",
   "execution_count": 1,
   "metadata": {
    "slideshow": {
     "slide_type": "slide"
    }
   },
   "outputs": [
    {
     "name": "stdout",
     "output_type": "stream",
     "text": [
      "['__class__', '__delattr__', '__dict__', '__dir__', '__doc__', '__eq__', '__format__', '__ge__', '__getattribute__', '__gt__', '__hash__', '__init__', '__init_subclass__', '__le__', '__lt__', '__module__', '__ne__', '__new__', '__reduce__', '__reduce_ex__', '__repr__', '__setattr__', '__sizeof__', '__str__', '__subclasshook__', '__weakref__', 'age', 'name', 'some_method']\n"
     ]
    }
   ],
   "source": [
    "class SimplePersonClass(object):\n",
    "    \n",
    "    def __init__(self, name, age,):\n",
    "        \n",
    "        self.name = name\n",
    "        self.age = age\n",
    "        \n",
    "    def some_method(self):\n",
    "        pass\n",
    "        \n",
    "person1 = SimplePersonClass('Stevie', 44)\n",
    "\n",
    "# check out all these attributes\n",
    "\n",
    "print(dir(person1))"
   ]
  },
  {
   "cell_type": "markdown",
   "metadata": {
    "slideshow": {
     "slide_type": "slide"
    }
   },
   "source": [
    "# Maybe You Have You Seen These Before?\n",
    "    \n",
    "    \n",
    "   - `__init__()`\n",
    "   \n",
    "   - `__str__()`\n",
    "   \n",
    "   - `__repr__()`\n",
    "   \n",
    "   - `__dict__`\n",
    "   \n",
    "   Lets take a look:\n",
    "    "
   ]
  },
  {
   "cell_type": "code",
   "execution_count": 2,
   "metadata": {
    "scrolled": false,
    "slideshow": {
     "slide_type": "slide"
    }
   },
   "outputs": [
    {
     "name": "stdout",
     "output_type": "stream",
     "text": [
      "<__main__.SimplePersonClass object at 0x7fc67c21c940>\n",
      "<__main__.SimplePersonClass object at 0x7fc67c21c940>\n",
      "Stevie\n",
      "44\n",
      "{'name': 'Stevie', 'age': 44}\n",
      "{'name': 'Stevie', 'age': 44}\n"
     ]
    }
   ],
   "source": [
    "# __init__() method implemented\n",
    "\n",
    "class SimplePersonClass(object):\n",
    "    \n",
    "    def __init__(self, name, age,):\n",
    "        \n",
    "        self.name = name\n",
    "        self.age = age\n",
    "        \n",
    "person1 = SimplePersonClass('Stevie', 44)\n",
    "\n",
    "print(person1)      # When passing an object to the \n",
    "                    # builtin method print() it calls __str__()\n",
    "print(repr(person1))# When passing an object to the\n",
    "                    # builtin method repr() it calls __repr__()\n",
    "print(person1.name)\n",
    "print(person1.age)\n",
    "\n",
    "print(vars(person1))    # The built in method vars()\n",
    "print(person1.__dict__) # Implements the .__dict__ arrribute"
   ]
  },
  {
   "cell_type": "code",
   "execution_count": 3,
   "metadata": {
    "scrolled": false,
    "slideshow": {
     "slide_type": "slide"
    }
   },
   "outputs": [
    {
     "name": "stdout",
     "output_type": "stream",
     "text": [
      "I am: Stevie\n",
      "Instance of the SimplePersonClass whose name is Stevie and whose age is: 44\n"
     ]
    }
   ],
   "source": [
    "# Lets implement __str__() and _repr_()\n",
    "\n",
    "class SimplePersonClass(object):\n",
    "    \n",
    "    def __init__(self, name, age,):\n",
    "        \n",
    "        self.name = name\n",
    "        self.age = age\n",
    "        \n",
    "    def __str__(self):\n",
    "        \n",
    "        return (\"I am: \" + self.name)\n",
    "    \n",
    "    def __repr__(self):\n",
    "        \n",
    "        return (\"Instance of the SimplePersonClass \" + \n",
    "                \"whose name is {} and whose age is: {}\"\n",
    "                .format(self.name, self.age))\n",
    "        \n",
    "person1 = SimplePersonClass('Stevie', 44)\n",
    "print(person1)\n",
    "print(repr(person1))"
   ]
  },
  {
   "cell_type": "markdown",
   "metadata": {
    "slideshow": {
     "slide_type": "slide"
    }
   },
   "source": [
    "# A Closer Look At Python's Object Lifecycle\n",
    "\n",
    "   ![Image of Python_Object Lifecycle](./src/python_class_creation.png)\n",
    "   \n",
    "   Image from: https://blog.ionelmc.ro/2015/02/09/understanding-python-metaclasses/\n"
   ]
  },
  {
   "cell_type": "code",
   "execution_count": 4,
   "metadata": {
    "scrolled": false,
    "slideshow": {
     "slide_type": "slide"
    }
   },
   "outputs": [
    {
     "name": "stdout",
     "output_type": "stream",
     "text": [
      "Calling __new__() Creating new object passing to __init__()\n",
      "Stevie\n",
      "44\n",
      "I am: Stevie\n",
      "Deleting Object: I am: Stevie\n"
     ]
    }
   ],
   "source": [
    "class SimplePersonClass(object):\n",
    "    \n",
    "    def __new__(cls, *args):\n",
    "        print(\"Calling __new__() Creating new object passing to __init__()\")\n",
    "        for a in args:\n",
    "            print(a)\n",
    "        instance = super(SimplePersonClass, cls).__new__(cls)\n",
    "        return instance\n",
    "        \n",
    "    def __init__(self, name, age,):\n",
    "        self.name = name\n",
    "        self.age = age\n",
    "        \n",
    "    def __str__(self):\n",
    "        return (\"I am: \" + self.name)\n",
    "    \n",
    "    def __repr__(self):\n",
    "            return (\"Instance of the SimplePersonClass \" + \n",
    "                    \"whose name is {} and whose age is: {}\"\n",
    "                    .format(self.name, self.age))\n",
    "    def __del__(self):\n",
    "        print('Deleting Object: ' + self.__str__())\n",
    "        del self\n",
    "\n",
    "person1 = SimplePersonClass('Stevie', 44) # Calling the __new__() method\n",
    "print(person1)                            # Calling the __str__() method\n",
    "person1.__del__()                         # Call the __del__() method"
   ]
  },
  {
   "cell_type": "markdown",
   "metadata": {
    "slideshow": {
     "slide_type": "slide"
    }
   },
   "source": [
    "# Magic Methods For Describing, Creating, and Destroying Objects\n",
    "## Some Creation and Distruction Methods\n",
    "\n",
    "\n",
    "| Method  |  Description |\n",
    "| ---    | ---         |\n",
    "| `__new__()`  | The first method to get called in object instantiation.  Takes a class and other arguments and passes them to `__init__()`  |\n",
    "| `__init__()`  | Passed whenever the primary constructor is called. Takes an instance (self) and other arguments.   |\n",
    "| `__del__()`  | The object deconstructor.  Useful for objects, like files that require extra cleanup. |"
   ]
  },
  {
   "cell_type": "markdown",
   "metadata": {
    "slideshow": {
     "slide_type": "slide"
    }
   },
   "source": [
    "# Magic Methods For Describing, Creating, and Destroying Objects\n",
    "## Some Descriptive Methods\n",
    "\n",
    "| Method | Description |\n",
    "|--------| ------------|\n",
    "|`__str__()`| Defines when str() is called on your class|\n",
    "| `__repr__()` | Defines when repr() is called on your class |\n",
    "| `__unicode__()` | Defined when unicode() is called on your class |\n",
    "| `__dir__()` | Defines dir(); returning a list of attributes |\n",
    "|`__format__()` | Allows for custom formatting with .format()|\n",
    "|`__hash__()`| Defines when hash() is called on your class|\n"
   ]
  },
  {
   "cell_type": "markdown",
   "metadata": {
    "slideshow": {
     "slide_type": "slide"
    }
   },
   "source": [
    "# Numeric Operators\n",
    "\n",
    "## Python allows us to define the bahavior of arithmetic operators\n",
    "- Unary Operators;\n",
    "- Binary Operators and;\n",
    "     - Normal and;\n",
    "     - Reflected;\n",
    "- Augmented Assignment;"
   ]
  },
  {
   "cell_type": "code",
   "execution_count": 5,
   "metadata": {
    "slideshow": {
     "slide_type": "slide"
    }
   },
   "outputs": [
    {
     "name": "stdout",
     "output_type": "stream",
     "text": [
      "True True\n",
      "string1 string2\n",
      "string1 string1 string1 \n"
     ]
    }
   ],
   "source": [
    "# We have seen this before in the standard library:\n",
    "str1 = 'string1 '\n",
    "str2 = 'string2'\n",
    "print(isinstance(str1, str), isinstance(str2, str))\n",
    "print(str1 + str2)  # str objects implement the __add__() method to define concatenation.\n",
    "print(str1 * 3)     # str objects also implement the __mul__() method to define repetition."
   ]
  },
  {
   "cell_type": "markdown",
   "metadata": {
    "slideshow": {
     "slide_type": "slide"
    }
   },
   "source": [
    "# Implementing A Custom __Add__ Method"
   ]
  },
  {
   "cell_type": "code",
   "execution_count": 6,
   "metadata": {
    "slideshow": {
     "slide_type": "slide"
    }
   },
   "outputs": [
    {
     "ename": "TypeError",
     "evalue": "unsupported operand type(s) for +: 'Point' and 'Point'",
     "output_type": "error",
     "traceback": [
      "\u001b[0;31m---------------------------------------------------------------------------\u001b[0m",
      "\u001b[0;31mTypeError\u001b[0m                                 Traceback (most recent call last)",
      "\u001b[0;32m<ipython-input-6-3c338def0891>\u001b[0m in \u001b[0;36m<module>\u001b[0;34m\u001b[0m\n\u001b[1;32m     10\u001b[0m \u001b[0mpoint1\u001b[0m \u001b[0;34m=\u001b[0m \u001b[0mPoint\u001b[0m\u001b[0;34m(\u001b[0m\u001b[0;36m1\u001b[0m\u001b[0;34m,\u001b[0m\u001b[0;36m1\u001b[0m\u001b[0;34m)\u001b[0m\u001b[0;34m\u001b[0m\u001b[0;34m\u001b[0m\u001b[0m\n\u001b[1;32m     11\u001b[0m \u001b[0mpoint2\u001b[0m \u001b[0;34m=\u001b[0m \u001b[0mPoint\u001b[0m\u001b[0;34m(\u001b[0m\u001b[0;36m3\u001b[0m\u001b[0;34m,\u001b[0m\u001b[0;36m4\u001b[0m\u001b[0;34m)\u001b[0m\u001b[0;34m\u001b[0m\u001b[0;34m\u001b[0m\u001b[0m\n\u001b[0;32m---> 12\u001b[0;31m \u001b[0mprint\u001b[0m\u001b[0;34m(\u001b[0m\u001b[0mpoint1\u001b[0m \u001b[0;34m+\u001b[0m \u001b[0mpoint2\u001b[0m\u001b[0;34m)\u001b[0m\u001b[0;34m\u001b[0m\u001b[0;34m\u001b[0m\u001b[0m\n\u001b[0m",
      "\u001b[0;31mTypeError\u001b[0m: unsupported operand type(s) for +: 'Point' and 'Point'"
     ]
    }
   ],
   "source": [
    "# Adding Cartesian Coordinates\n",
    "\n",
    "class Point(object):\n",
    "    def __init__(self, *args):\n",
    "        if len(args) != 2:\n",
    "            self.points = (0,0)\n",
    "        else:\n",
    "            self.points = args\n",
    "            \n",
    "point1 = Point(1,1)\n",
    "point2 = Point(3,4)\n",
    "print(point1 + point2)"
   ]
  },
  {
   "cell_type": "code",
   "execution_count": null,
   "metadata": {
    "slideshow": {
     "slide_type": "slide"
    }
   },
   "outputs": [],
   "source": [
    "# Implementing the __add__() method\n",
    "\n",
    "class Point(object):\n",
    "    def __init__(self, *args):\n",
    "        if len(args) != 2:\n",
    "            self.points = (0,0)\n",
    "        else:\n",
    "            self.points = args\n",
    "        \n",
    "    def __add__(self, other):\n",
    "        add = list(x + y for x,y in zip(self.points, other.points))\n",
    "        return (Point(*add))\n",
    "        \n",
    "point1 = Point(1,1)\n",
    "point2 = Point(3,4)\n",
    "point3 = point1 + point2\n",
    "print(point1.points)\n",
    "print(point2.points)\n",
    "print(point3.points)"
   ]
  },
  {
   "cell_type": "markdown",
   "metadata": {
    "slideshow": {
     "slide_type": "slide"
    }
   },
   "source": [
    "# Magic Methods Numeric Operators\n",
    "## Some Unary Operators\n",
    "\n",
    "| Method | Operator |\n",
    "|--------| ------------|\n",
    "|`__neg__()`| - |\n",
    "| `__pos__()` | + |\n",
    "| `__abs__()` | abs() |\n",
    "| `__round__()` | round() |\n",
    "|`__floor__()` | math.floor() |\n",
    "|`__ceil__()`| math.ceil()|"
   ]
  },
  {
   "cell_type": "markdown",
   "metadata": {
    "slideshow": {
     "slide_type": "slide"
    }
   },
   "source": [
    "# Magic Methods Numeric Operators\n",
    "## Some Binary Operators\n",
    "| Method | Operator |\n",
    "|--------| ------------|\n",
    "|`__add__()`| + |\n",
    "| `__sub__()` | - |\n",
    "| `__mul__()` | * |\n",
    "| `__div__()` | / |\n",
    "|`__pow__()` | ** |\n",
    "|`__mod__()`| % |"
   ]
  },
  {
   "cell_type": "markdown",
   "metadata": {
    "slideshow": {
     "slide_type": "slide"
    }
   },
   "source": [
    "# Magic Methods Numeric Operators\n",
    "## Some Augmented Assignment Operators\n",
    "| Method | Operator |\n",
    "|--------| ------------|\n",
    "|`__iadd__()`| += |\n",
    "| `__isub__()` | -= |\n",
    "| `__imul__()` | *= |\n",
    "| `__idiv__()` | /= |\n",
    "|`__ipow__()` | `**= `|\n",
    "|`__imod__()`| %= |"
   ]
  },
  {
   "cell_type": "markdown",
   "metadata": {
    "slideshow": {
     "slide_type": "slide"
    }
   },
   "source": [
    "# Comparison\n",
    "## Python allows us to define the behavior of comparison operators\n",
    "- `>`\n",
    "- `<`\n",
    "- `>=`\n",
    "- `<=`\n",
    "- `==`\n",
    "- `!=`\n"
   ]
  },
  {
   "cell_type": "code",
   "execution_count": null,
   "metadata": {
    "slideshow": {
     "slide_type": "slide"
    }
   },
   "outputs": [],
   "source": [
    "# Is one string greater than or less than another string\n",
    "# based on their Unicode values?\n",
    "\n",
    "class StrToUniCode(object):\n",
    "    def __init__(self, string):\n",
    "        self.string  = string\n",
    "        \n",
    "    def __lt__(self, other):\n",
    "        return self.val_unicode < other.val_unicode\n",
    "    def __gt__(self, other):\n",
    "        return self.val_unicode > other.val_unicode\n",
    "    @property\n",
    "    def val_unicode(self):\n",
    "        vals =  [ord(s) for s in self.string]\n",
    "        return sum(vals)\n",
    "    \n",
    "s1 = StrToUniCode('test')\n",
    "s2 = StrToUniCode('Test')\n",
    "print(s1.val_unicode, s2.val_unicode)\n",
    "print (s1 > s2)\n",
    "print(s1 < s2)"
   ]
  },
  {
   "cell_type": "markdown",
   "metadata": {
    "slideshow": {
     "slide_type": "slide"
    }
   },
   "source": [
    "# Magic Methods Comparison Operators\n",
    "## Some Comparison Operators:\n",
    "| Method   | Operator |\n",
    "|----------| ---------|\n",
    "|`__eq__()`| == |\n",
    "| `__ne__()` | != |\n",
    "| `__lt__()` | < |\n",
    "| `__gt__()` | > |\n",
    "|`__le__()` | `<= `|\n",
    "|`__ge__()`| >= |"
   ]
  },
  {
   "cell_type": "markdown",
   "metadata": {
    "slideshow": {
     "slide_type": "slide"
    }
   },
   "source": [
    "# Containers\n",
    "## Python allows us to make objects that behave like lists, dictionaries, and tuples\n",
    "\n",
    "### Requirements:\n",
    "- Immutable containers must implement `__len__()` and `__getitem__()`\n",
    "- Additionally, mutable containers must implement `__setitem__()` and `__delitem__()`\n",
    "- If you want to create an iterable you must define `__iter__()`\n",
    "    "
   ]
  },
  {
   "cell_type": "markdown",
   "metadata": {
    "slideshow": {
     "slide_type": "slide"
    }
   },
   "source": [
    "# Containers\n",
    "\n",
    "## Lets take a look at the Python Standard Library to see how containers are implemented\n",
    "\n",
    "Documentation: \n",
    "https://docs.python.org/3/library/collections.html\n",
    "\n",
    "- OrderedDict\n",
    "- namedTuple()\n",
    "- ChainMap\n",
    "- Counter\n",
    "- DefaultDict\n",
    "\n",
    "Open your Python3 REPL:\n",
    "\n",
    "```Python\n",
    "import collections\n",
    "help(dict)\n",
    "help(collections.OrderedDict)\n",
    "```"
   ]
  },
  {
   "cell_type": "markdown",
   "metadata": {
    "slideshow": {
     "slide_type": "slide"
    }
   },
   "source": [
    "# Magic Methods For Containers\n",
    "\n",
    "| Method   | Description |\n",
    "|----------| ---------|\n",
    "|`__len__()`| returns the length of the squence **required for immutable and mutable containers** |\n",
    "| `__getitem__()` | implements self[key] **required for immutable and mutable containers** |\n",
    "| `__setitem__()` | implements self[key] = value **required for mutable containers** |\n",
    "| `__delitem__()` | implements del self[key] **required for mutable containers** |\n",
    "|`__iter__()` | implements an iterator |\n",
    "|`__reversed__()`| implements the reversed() builtin function |\n",
    "|`__contains()__`| defines behavior for membership testing i.e in and not in|\n",
    "|`__missing__()` | used in subclasses of dict, defines behavior then a key is accessed that doesn't exist |"
   ]
  },
  {
   "cell_type": "markdown",
   "metadata": {
    "slideshow": {
     "slide_type": "slide"
    }
   },
   "source": [
    "# Questions"
   ]
  },
  {
   "cell_type": "markdown",
   "metadata": {
    "slideshow": {
     "slide_type": "slide"
    }
   },
   "source": [
    "# Sources\n",
    "\n",
    "Official Documentation: \n",
    "- https://docs.python.org/3/reference/datamodel.html#special-method-names\n",
    "- https://docs.python.org/3/library/operator.html\n",
    "- https://docs.python.org/3/library/collections.html\n",
    "\n",
    "Third Party References and Examples:\n",
    "\n",
    "- https://rszalski.github.io/magicmethods/\n",
    "\n",
    "- https://www.python-course.eu/python3_magic_methods.php\n",
    "\n",
    "- https://dbader.org/blog/python-dunder-methods\n",
    "\n",
    "- https://micropyramid.com/blog/python-special-class-methods-or-magic-methods/\n",
    "\n",
    "- https://www.geeksforgeeks.org/dunder-magic-methods-python/\n",
    "\n",
    "- https://opensource.com/article/18/4/elegant-solutions-everyday-python-problems\n",
    "\n",
    "- http://farmdev.com/src/secrets/magicmethod/index.html"
   ]
  }
 ],
 "metadata": {
  "celltoolbar": "Slideshow",
  "kernelspec": {
   "display_name": "Python 3",
   "language": "python",
   "name": "python3"
  },
  "language_info": {
   "codemirror_mode": {
    "name": "ipython",
    "version": 3
   },
   "file_extension": ".py",
   "mimetype": "text/x-python",
   "name": "python",
   "nbconvert_exporter": "python",
   "pygments_lexer": "ipython3",
   "version": "3.7.2+"
  }
 },
 "nbformat": 4,
 "nbformat_minor": 2
}
